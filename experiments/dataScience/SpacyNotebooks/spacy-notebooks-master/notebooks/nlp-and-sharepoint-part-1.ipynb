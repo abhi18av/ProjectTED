{
 "cells": [
  {
   "cell_type": "markdown",
   "metadata": {},
   "source": [
    "# Natural Language Processing and SharePoint\n",
    "\n",
    "Wait, what? As in reading what people are saying on my SharePoint site?\n",
    "\n",
    "Yes, Natural Language Processing (NLP) refers to how computers and humans interact; more specifically, how a computer program can come to understand what we humans are saying, whether we're writing a sonnet or a scathing review on Netflix.\n",
    "\n",
    "Many companies turn to NLP techniques in order to get a better understanding of the needs, motivations and problems of their users. Netflix, for example, is well-known for its movie recommendation system, which uses NLP to determine what people are saying about a film or television show. Other sites and applications use NLP to help identify shills, so they can better hide reviews from people who post artificial praise about a product in order to boost the ranking of that product artificially.\n",
    "\n",
    "Let me whet your appetite, and show you what sorts of things you can do when you apply some of the latest techniques and tools devoted to improving the state of NLP."
   ]
  },
  {
   "cell_type": "markdown",
   "metadata": {},
   "source": [
    "## Tools\n",
    "\n",
    "First, the software. There are two primary languages used in most NLP tasks: Java and Python. That's not to say there's no C# or Swift or anything like that - there's plenty - but the overwhelming majority of libraries meant to provide NLP functionality is designed to be consumed from Java or from Python.\n",
    "\n",
    "## Snakes on a ... program\n",
    "\n",
    "I'll be using Python for today's post. Why's that, you say? Four out of five data scientists may agree that statistics are mostly made up on the spot, but many of them use Python (and a really amazing library called Jupyter Notebooks, formerly known as IPython Notebooks) when they're *doing data science*.\n",
    "\n",
    "The fastest, simplest way to get set up for Windows, Mac and Linux users is a [distribution of Python called Anaconda](https://www.continuum.io/downloads). It's pretty amazing, actually. It bundles together hundreds of the most popular Python packages used for science, analytics, engineering and mathematics, and sets up all the necessary plumbing to run Python with those packages either from the command line or via an interactive web-based editor called a Jupyter Notebook. In fact, this whole article was written as a Jupyter Notebook, so once you have it installed, you can even try some of these examples out yourself."
   ]
  },
  {
   "cell_type": "markdown",
   "metadata": {},
   "source": [
    "## It's words ... in SPACE\n",
    "\n",
    "While Anaconda comes with so many amazing Python packages for *doing science*, there's one more NLP-specific package that I've been using for over a year now called [**spaCy**](https://spacy.io). It's super-fast for processing English language text, and extracting lots of relevant information about it. If only you could've had this when you were stuck doing sentence diagrams back in your school days:\n",
    "![sentence diagram](http://classcdn.s3.amazonaws.com/images/sentencediagram.png)"
   ]
  },
  {
   "cell_type": "markdown",
   "metadata": {},
   "source": [
    "## Let's get digital\n",
    "\n",
    "First, I'm going to get some code up in here. After **spaCy** is installed and a Jupyter Notebook is running, I fire off the first, all-important line of code:"
   ]
  },
  {
   "cell_type": "code",
   "execution_count": 1,
   "metadata": {
    "collapsed": true
   },
   "outputs": [],
   "source": [
    "# Hello, world!"
   ]
  },
  {
   "cell_type": "markdown",
   "metadata": {},
   "source": [
    "Just kidding."
   ]
  },
  {
   "cell_type": "code",
   "execution_count": 2,
   "metadata": {
    "collapsed": true
   },
   "outputs": [],
   "source": [
    "from IPython.core.display import display, HTML\n",
    "import spacy\n",
    "import pandas as pd\n",
    "pd.set_option('display.max_colwidth', -1)"
   ]
  },
  {
   "cell_type": "markdown",
   "metadata": {},
   "source": [
    "First, because this post is also available as one of those aforementioned Jupyter Notebook files, I import some modules that let my Python code write HTML to the screen.\n",
    "\n",
    "The second line? That tells Python that I'm going to be using a module called `spacy`, which oddly enough, is where all of **spaCy**'s magic happens.\n",
    "\n",
    "The third line? Who doesn't like *pandas*? Just kidding. It's actually a Python package called [**Pandas**](http://pandas.pydata.org), a sort of data-scientist-super-Excel for Python users.  But that's a topic for another post. I don't like typing `pandas` all the time, so I gave it the shorthand `pd`. I also set an option on `pandas` so that it doesn't truncate super-long strings in its output.\n",
    "\n",
    "Speaking of magic, it's time to get my magic wand ready..."
   ]
  },
  {
   "cell_type": "code",
   "execution_count": 3,
   "metadata": {
    "collapsed": false
   },
   "outputs": [],
   "source": [
    "nlp = spacy.English()"
   ]
  },
  {
   "cell_type": "markdown",
   "metadata": {},
   "source": [
    "This one line can take a little while to run. It's loading in the brain of the **spaCy** package, and calling the brain \"nlp\". Like, almost literally, a brain. A bunch of memories, anyway. Memories that the developer has trained using huge bodies of text in order to extract meaning, parts of speech, named entities (think: proper nouns, among other things like dates, ordinals, etc.), word association, and root forms, among other things. Luckily, the brain only needs to be loaded in at the beginning of the program.\n",
    "\n",
    "Now, let's casually gloss over (for now) how we got this data out of SharePoint (because, honestly, there are so many ways you could've done that, and everyone has their favorites, and besides, the sequel to this post will give you a real, live Python package to make it easy), but let's just say that your **AdventureWorks** business has really taken off, and your SharePoint-based e-commerce site has been collecting reviews of your products. What might a typical review look like? Glad you asked! Here's one I slightly altered in order to show off just how cool this whole **spaCy** thing is."
   ]
  },
  {
   "cell_type": "code",
   "execution_count": 4,
   "metadata": {
    "collapsed": true
   },
   "outputs": [],
   "source": [
    "review = '''The Road-550-W from Adventure Works Cycles is everything it's advertised to be. Finally, a quality bike that is actually built for a woman and provides control and comfort in one neat package. The top tube is shorter, the suspension is weight-tuned and there's a much shorter reach to the brake levers. All this adds up to a great mountain bike that is sure to accommodate any woman's anatomy. In addition to getting the size right, the saddle is incredibly comfortable. Attention to detail is apparent in every aspect from the frame finish to the careful design of each component. Each component is a solid performer without any fluff. The designers clearly did their homework and thought about size, weight, and funtionality throughout. And at less than 19 pounds, the bike is manageable for even the most petite cyclist. We had 5 riders, including my good friend Dr. Joseph A. Bicycle, and his wife, Mrs. Jane Bicycle, take the bike out for a spin and really put it to the test. The results were consistent and very positive. Our testers loved the manuverability and control they had with the redesigned frame on the 550-W. A definite improvement over the 2002 design. Four out of five testers listed quick handling and responsivness were the key elements they noticed. Technical climbing and on the flats, the bike just cruises through the rough. Tight corners and obstacles were handled effortlessly. The fifth tester was more impressed with the smooth ride. The heavy-duty shocks absorbed even the worst bumps and provided a soft ride on all but the nastiest trails and biggest drops. The shifting was rated superb and typical of what we've come to expect from Adventure Works Cycles. On descents, the bike handled flawlessly and tracked very well. The bike is well balanced front-to-rear and frame flex was minimal. In particular, the testers noted that the brake system had a unique combination of power and modulation.  While some brake setups can be overly touchy, these brakes had a good amount of power, but also a good feel that allows you to apply as little or as much braking power as is needed. Second is their short break-in period. We found that they tend to break-in well before the end of the first ride; while others take two to three rides (or more) to come to full power. On the negative side, the pedals were not quite up to our tester's standards. Just for fun, we experimented with routine maintenance tasks. Overall we found most operations to be straight forward and easy to complete. The only exception was replacing the front wheel. The maintenance manual that comes with the bike say to install the front wheel with the axle quick release or bolt, then compress the fork a few times before fastening and tightening the two quick-release mechanisms on the bottom of the dropouts. This is to seat the axle in the dropouts, and if you do not do this, the axle will become seated after you tightened the two bottom quick releases, which will then become loose. It's better to test the tightness carefully or you may notice that the two bottom quick releases have come loose enough to fall completely open. And that's something you don't want to experience while out on the road! The Road-550-W frame is available in a variety of sizes and colors and has the same durable, high-quality aluminum that AWC is known for. At a MSRP of just under $1125.00, it's comparable in price to its closest competitors and we think that after a test drive you'l find the quality and performance above and beyond . You'll have a grin on your face and be itching to get out on the road for more. While designed for serious road racing, the Road-550-W would be an excellent choice for just about any terrain and any level of experience. It's a huge step in the right direction for female cyclists and well worth your consideration and hard-earned money.'''"
   ]
  },
  {
   "cell_type": "markdown",
   "metadata": {},
   "source": [
    "In Python, the triple-single-quote ''' is used as the wrapper for a string that takes up multiple lines, or one that may have single or double quotes inside it. That way I didn't have to \"escape\" the single quotes used in the contractions from the original review text. Just in case you were curious. Here's the review printed out in one long `blockquote`."
   ]
  },
  {
   "cell_type": "code",
   "execution_count": 5,
   "metadata": {
    "collapsed": false
   },
   "outputs": [
    {
     "data": {
      "text/html": [
       "<blockquote>The Road-550-W from Adventure Works Cycles is everything it's advertised to be. Finally, a quality bike that is actually built for a woman and provides control and comfort in one neat package. The top tube is shorter, the suspension is weight-tuned and there's a much shorter reach to the brake levers. All this adds up to a great mountain bike that is sure to accommodate any woman's anatomy. In addition to getting the size right, the saddle is incredibly comfortable. Attention to detail is apparent in every aspect from the frame finish to the careful design of each component. Each component is a solid performer without any fluff. The designers clearly did their homework and thought about size, weight, and funtionality throughout. And at less than 19 pounds, the bike is manageable for even the most petite cyclist. We had 5 riders, including my good friend Dr. Joseph A. Bicycle, and his wife, Mrs. Jane Bicycle, take the bike out for a spin and really put it to the test. The results were consistent and very positive. Our testers loved the manuverability and control they had with the redesigned frame on the 550-W. A definite improvement over the 2002 design. Four out of five testers listed quick handling and responsivness were the key elements they noticed. Technical climbing and on the flats, the bike just cruises through the rough. Tight corners and obstacles were handled effortlessly. The fifth tester was more impressed with the smooth ride. The heavy-duty shocks absorbed even the worst bumps and provided a soft ride on all but the nastiest trails and biggest drops. The shifting was rated superb and typical of what we've come to expect from Adventure Works Cycles. On descents, the bike handled flawlessly and tracked very well. The bike is well balanced front-to-rear and frame flex was minimal. In particular, the testers noted that the brake system had a unique combination of power and modulation.  While some brake setups can be overly touchy, these brakes had a good amount of power, but also a good feel that allows you to apply as little or as much braking power as is needed. Second is their short break-in period. We found that they tend to break-in well before the end of the first ride; while others take two to three rides (or more) to come to full power. On the negative side, the pedals were not quite up to our tester's standards. Just for fun, we experimented with routine maintenance tasks. Overall we found most operations to be straight forward and easy to complete. The only exception was replacing the front wheel. The maintenance manual that comes with the bike say to install the front wheel with the axle quick release or bolt, then compress the fork a few times before fastening and tightening the two quick-release mechanisms on the bottom of the dropouts. This is to seat the axle in the dropouts, and if you do not do this, the axle will become seated after you tightened the two bottom quick releases, which will then become loose. It's better to test the tightness carefully or you may notice that the two bottom quick releases have come loose enough to fall completely open. And that's something you don't want to experience while out on the road! The Road-550-W frame is available in a variety of sizes and colors and has the same durable, high-quality aluminum that AWC is known for. At a MSRP of just under $1125.00, it's comparable in price to its closest competitors and we think that after a test drive you'l find the quality and performance above and beyond . You'll have a grin on your face and be itching to get out on the road for more. While designed for serious road racing, the Road-550-W would be an excellent choice for just about any terrain and any level of experience. It's a huge step in the right direction for female cyclists and well worth your consideration and hard-earned money.</blockquote>"
      ],
      "text/plain": [
       "<IPython.core.display.HTML object>"
      ]
     },
     "metadata": {},
     "output_type": "display_data"
    }
   ],
   "source": [
    "display(HTML(\"<blockquote>{}</blockquote>\".format(review)))"
   ]
  },
  {
   "cell_type": "markdown",
   "metadata": {},
   "source": [
    "So that review sure looks great! Seems a little too enthusiastic, but did include a negative as well. Let's see what sorts of things we can extract from this totally-not-fictional review.\n",
    "\n",
    "First, in order to look for meaning in all those words, we need to let that `nlp` brain have a read:"
   ]
  },
  {
   "cell_type": "code",
   "execution_count": 6,
   "metadata": {
    "collapsed": true
   },
   "outputs": [],
   "source": [
    "doc = nlp(review)"
   ]
  },
  {
   "cell_type": "markdown",
   "metadata": {},
   "source": [
    "It's a quick read.\n",
    "\n",
    "Natural Language Processing systems *really* like their language to be broken down into sentences. Now, that can be a long, involved process. You can't just separate sentences based on punctuation. What would Dr. Bicycle et.al. say about that? Luckily, **spaCy** knows how to handle such things. Here is the list of sentences that it found. Well, not all of them. Just five of them, starting with the ninth."
   ]
  },
  {
   "cell_type": "code",
   "execution_count": 7,
   "metadata": {
    "collapsed": false
   },
   "outputs": [
    {
     "name": "stdout",
     "output_type": "stream",
     "text": [
      "There were 38 sentences found. Here's a sample:\n"
     ]
    },
    {
     "data": {
      "text/html": [
       "<div>\n",
       "<table border=\"1\" class=\"dataframe\">\n",
       "  <thead>\n",
       "    <tr style=\"text-align: right;\">\n",
       "      <th></th>\n",
       "      <th>0</th>\n",
       "    </tr>\n",
       "  </thead>\n",
       "  <tbody>\n",
       "    <tr>\n",
       "      <th>0</th>\n",
       "      <td>And at less than 19 pounds, the bike is manageable for even the most petite cyclist.</td>\n",
       "    </tr>\n",
       "    <tr>\n",
       "      <th>1</th>\n",
       "      <td>We had 5 riders, including my good friend Dr. Joseph A. Bicycle, and his wife, Mrs. Jane Bicycle, take the bike out for a spin and really put it to the test.</td>\n",
       "    </tr>\n",
       "    <tr>\n",
       "      <th>2</th>\n",
       "      <td>The results were consistent and very positive.</td>\n",
       "    </tr>\n",
       "    <tr>\n",
       "      <th>3</th>\n",
       "      <td>Our testers loved the manuverability and control they had with the redesigned frame on the 550-W.</td>\n",
       "    </tr>\n",
       "    <tr>\n",
       "      <th>4</th>\n",
       "      <td>A definite improvement over the 2002 design.</td>\n",
       "    </tr>\n",
       "  </tbody>\n",
       "</table>\n",
       "</div>"
      ],
      "text/plain": [
       "                                                                                                                                                               0\n",
       "0  And at less than 19 pounds, the bike is manageable for even the most petite cyclist.                                                                         \n",
       "1  We had 5 riders, including my good friend Dr. Joseph A. Bicycle, and his wife, Mrs. Jane Bicycle, take the bike out for a spin and really put it to the test.\n",
       "2  The results were consistent and very positive.                                                                                                               \n",
       "3  Our testers loved the manuverability and control they had with the redesigned frame on the 550-W.                                                            \n",
       "4  A definite improvement over the 2002 design.                                                                                                                 "
      ]
     },
     "execution_count": 7,
     "metadata": {},
     "output_type": "execute_result"
    }
   ],
   "source": [
    "sentences = [sentence.orth_ for sentence in doc.sents]\n",
    "print(\"There were {} sentences found. Here's a sample:\".format(len(sentences)))\n",
    "pd.DataFrame(sentences[8:13])"
   ]
  },
  {
   "cell_type": "markdown",
   "metadata": {},
   "source": [
    "Alright! Let's see how well **spaCy** does with showing me noun phrases, which can help when determining the topic of a text - especially when combined with more advanced weighting algorithms like [TF-IDF](https://en.wikipedia.org/wiki/Tf–idf). I'm also showing the \"head\" of the phrase - i.e. the word connects that noun phrase to another part of the review. I'll show just a subset."
   ]
  },
  {
   "cell_type": "code",
   "execution_count": 8,
   "metadata": {
    "collapsed": false
   },
   "outputs": [
    {
     "name": "stdout",
     "output_type": "stream",
     "text": [
      "There were 155 noun phrases found. Here's a sample:\n"
     ]
    },
    {
     "data": {
      "text/html": [
       "<div>\n",
       "<table border=\"1\" class=\"dataframe\">\n",
       "  <thead>\n",
       "    <tr style=\"text-align: right;\">\n",
       "      <th></th>\n",
       "      <th>0</th>\n",
       "      <th>1</th>\n",
       "    </tr>\n",
       "  </thead>\n",
       "  <tbody>\n",
       "    <tr>\n",
       "      <th>0</th>\n",
       "      <td>one neat package</td>\n",
       "      <td>in</td>\n",
       "    </tr>\n",
       "    <tr>\n",
       "      <th>1</th>\n",
       "      <td>The top tube</td>\n",
       "      <td>is</td>\n",
       "    </tr>\n",
       "    <tr>\n",
       "      <th>2</th>\n",
       "      <td>the suspension</td>\n",
       "      <td>is</td>\n",
       "    </tr>\n",
       "    <tr>\n",
       "      <th>3</th>\n",
       "      <td>a much shorter reach</td>\n",
       "      <td>'s</td>\n",
       "    </tr>\n",
       "    <tr>\n",
       "      <th>4</th>\n",
       "      <td>the brake levers</td>\n",
       "      <td>to</td>\n",
       "    </tr>\n",
       "    <tr>\n",
       "      <th>5</th>\n",
       "      <td>a great mountain bike</td>\n",
       "      <td>to</td>\n",
       "    </tr>\n",
       "    <tr>\n",
       "      <th>6</th>\n",
       "      <td>any woman's anatomy</td>\n",
       "      <td>accommodate</td>\n",
       "    </tr>\n",
       "    <tr>\n",
       "      <th>7</th>\n",
       "      <td>addition</td>\n",
       "      <td>In</td>\n",
       "    </tr>\n",
       "    <tr>\n",
       "      <th>8</th>\n",
       "      <td>the size</td>\n",
       "      <td>getting</td>\n",
       "    </tr>\n",
       "    <tr>\n",
       "      <th>9</th>\n",
       "      <td>the saddle</td>\n",
       "      <td>is</td>\n",
       "    </tr>\n",
       "  </tbody>\n",
       "</table>\n",
       "</div>"
      ],
      "text/plain": [
       "                       0            1\n",
       "0  one neat package       in         \n",
       "1  The top tube           is         \n",
       "2  the suspension         is         \n",
       "3  a much shorter reach   's         \n",
       "4  the brake levers       to         \n",
       "5  a great mountain bike  to         \n",
       "6  any woman's anatomy    accommodate\n",
       "7  addition               In         \n",
       "8  the size               getting    \n",
       "9  the saddle             is         "
      ]
     },
     "execution_count": 8,
     "metadata": {},
     "output_type": "execute_result"
    }
   ],
   "source": [
    "nounphrases = [[np.orth_, np.root.head.orth_] for np in doc.noun_chunks]\n",
    "print(\"There were {} noun phrases found. Here's a sample:\".format(len(nounphrases)))\n",
    "pd.DataFrame(nounphrases[8:18])"
   ]
  },
  {
   "cell_type": "markdown",
   "metadata": {},
   "source": [
    "How about those so-called \"entities\"?"
   ]
  },
  {
   "cell_type": "code",
   "execution_count": 9,
   "metadata": {
    "collapsed": false
   },
   "outputs": [
    {
     "name": "stdout",
     "output_type": "stream",
     "text": [
      "There were 19 entities found\n"
     ]
    }
   ],
   "source": [
    "entities = list(doc.ents)\n",
    "print(\"There were {} entities found\".format(len(entities)))"
   ]
  },
  {
   "cell_type": "markdown",
   "metadata": {},
   "source": [
    "Seems like a lot, doesn't it? But we can tell that there are several \"entities\" in there that don't seem to be the \"proper nouns\" we're expecting. I'll grab just the ones that are organizations (`ORG`, in the code) or people (`PERSON`)."
   ]
  },
  {
   "cell_type": "code",
   "execution_count": 10,
   "metadata": {
    "collapsed": false
   },
   "outputs": [
    {
     "data": {
      "text/html": [
       "<div>\n",
       "<table border=\"1\" class=\"dataframe\">\n",
       "  <thead>\n",
       "    <tr style=\"text-align: right;\">\n",
       "      <th></th>\n",
       "      <th>0</th>\n",
       "    </tr>\n",
       "  </thead>\n",
       "  <tbody>\n",
       "    <tr>\n",
       "      <th>0</th>\n",
       "      <td>Adventure Works Cycles</td>\n",
       "    </tr>\n",
       "    <tr>\n",
       "      <th>1</th>\n",
       "      <td>Joseph A. Bicycle</td>\n",
       "    </tr>\n",
       "    <tr>\n",
       "      <th>2</th>\n",
       "      <td>Jane Bicycle</td>\n",
       "    </tr>\n",
       "    <tr>\n",
       "      <th>3</th>\n",
       "      <td>Adventure Works Cycles</td>\n",
       "    </tr>\n",
       "    <tr>\n",
       "      <th>4</th>\n",
       "      <td>AWC</td>\n",
       "    </tr>\n",
       "  </tbody>\n",
       "</table>\n",
       "</div>"
      ],
      "text/plain": [
       "                        0\n",
       "0  Adventure Works Cycles\n",
       "1  Joseph A. Bicycle     \n",
       "2  Jane Bicycle          \n",
       "3  Adventure Works Cycles\n",
       "4  AWC                   "
      ]
     },
     "execution_count": 10,
     "metadata": {},
     "output_type": "execute_result"
    }
   ],
   "source": [
    "orgs_and_people = [entity.orth_ for entity in entities if entity.label_ in ['ORG','PERSON']]\n",
    "pd.DataFrame(orgs_and_people)"
   ]
  },
  {
   "cell_type": "markdown",
   "metadata": {},
   "source": [
    "That's better. And we're only scratching the surface. This sort of linguistic analysis can be used to identify brands being discussed on your SharePoint sites, identify subject matter experts based on the content they submit, and even enforce governance rules by identifying posted material that isn't meant to be shared publicly.\n",
    "\n",
    "Even that list is just the tip of the iceberg whose surface this article has only scratched.\n",
    "\n",
    "## Hungry for more?\n",
    "\n",
    "I'll be delivering a session at [SPTechCon in Austin, TX](http://www.sptechcon.com/classes) - on my birthday, even! - called \"Data (and text) Mining SharePoint for Fun and Profit\", where I'll demonstrate several more clever and useful techniques, with real SharePoint data, that showcase the power of data mining and natural language processing. You should totally plan to be there.\n",
    "\n",
    "I will also have Part 2 of what I hope to be a 5-part series, ready for you to read, shortly after I return from SPTechCon.\n",
    "\n",
    "Thanks for reading!"
   ]
  }
 ],
 "metadata": {
  "kernelspec": {
   "display_name": "Python 3",
   "language": "python",
   "name": "python3"
  },
  "language_info": {
   "codemirror_mode": {
    "name": "ipython",
    "version": 3
   },
   "file_extension": ".py",
   "mimetype": "text/x-python",
   "name": "python",
   "nbconvert_exporter": "python",
   "pygments_lexer": "ipython3",
   "version": "3.4.3"
  }
 },
 "nbformat": 4,
 "nbformat_minor": 0
}
